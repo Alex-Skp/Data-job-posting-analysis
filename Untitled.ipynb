{
 "cells": [
  {
   "cell_type": "markdown",
   "metadata": {},
   "source": [
    "There we go"
   ]
  },
  {
   "cell_type": "code",
   "execution_count": 2,
   "metadata": {},
   "outputs": [],
   "source": [
    "import pandas as pd\n",
    "import numpy as np"
   ]
  },
  {
   "cell_type": "code",
   "execution_count": 6,
   "metadata": {},
   "outputs": [
    {
     "data": {
      "text/html": [
       "<div>\n",
       "<style scoped>\n",
       "    .dataframe tbody tr th:only-of-type {\n",
       "        vertical-align: middle;\n",
       "    }\n",
       "\n",
       "    .dataframe tbody tr th {\n",
       "        vertical-align: top;\n",
       "    }\n",
       "\n",
       "    .dataframe thead th {\n",
       "        text-align: right;\n",
       "    }\n",
       "</style>\n",
       "<table border=\"1\" class=\"dataframe\">\n",
       "  <thead>\n",
       "    <tr style=\"text-align: right;\">\n",
       "      <th></th>\n",
       "      <th>position</th>\n",
       "      <th>company</th>\n",
       "      <th>description</th>\n",
       "      <th>numreview</th>\n",
       "      <th>location</th>\n",
       "    </tr>\n",
       "  </thead>\n",
       "  <tbody>\n",
       "    <tr>\n",
       "      <th>0</th>\n",
       "      <td>Institutional Review Board Analyst I - Office ...</td>\n",
       "      <td>USC</td>\n",
       "      <td>&lt;span id=\"job_summary\" class=\"summary\"&gt;&lt;div&gt;&lt;p...</td>\n",
       "      <td>545 reviews</td>\n",
       "      <td>Los Angeles, CA</td>\n",
       "    </tr>\n",
       "    <tr>\n",
       "      <th>1</th>\n",
       "      <td>Analyst - Optimization</td>\n",
       "      <td>The Boston Consulting Group</td>\n",
       "      <td>&lt;span id=\"job_summary\" class=\"summary\"&gt;&lt;div&gt;&lt;b...</td>\n",
       "      <td>198 reviews</td>\n",
       "      <td>Los Angeles, CA</td>\n",
       "    </tr>\n",
       "    <tr>\n",
       "      <th>2</th>\n",
       "      <td>Postdoctoral Research Associate</td>\n",
       "      <td>USC</td>\n",
       "      <td>&lt;span id=\"job_summary\" class=\"summary\"&gt;&lt;div&gt;&lt;p...</td>\n",
       "      <td>545 reviews</td>\n",
       "      <td>Los Angeles, CA</td>\n",
       "    </tr>\n",
       "    <tr>\n",
       "      <th>3</th>\n",
       "      <td>Research Analyst</td>\n",
       "      <td>SHIELDS for Families, Inc.</td>\n",
       "      <td>&lt;span id=\"job_summary\" class=\"summary\"&gt;&lt;b&gt;SUMM...</td>\n",
       "      <td>48 reviews</td>\n",
       "      <td>Los Angeles, CA 90002</td>\n",
       "    </tr>\n",
       "    <tr>\n",
       "      <th>4</th>\n",
       "      <td>Additive Materials and Process Scientist</td>\n",
       "      <td>Divergent 3D</td>\n",
       "      <td>&lt;span id=\"job_summary\" class=\"summary\"&gt;&lt;div&gt;&lt;d...</td>\n",
       "      <td>NaN</td>\n",
       "      <td>Los Angeles, CA</td>\n",
       "    </tr>\n",
       "  </tbody>\n",
       "</table>\n",
       "</div>"
      ],
      "text/plain": [
       "                                            position  \\\n",
       "0  Institutional Review Board Analyst I - Office ...   \n",
       "1                             Analyst - Optimization   \n",
       "2                    Postdoctoral Research Associate   \n",
       "3                                   Research Analyst   \n",
       "4           Additive Materials and Process Scientist   \n",
       "\n",
       "                       company  \\\n",
       "0                          USC   \n",
       "1  The Boston Consulting Group   \n",
       "2                          USC   \n",
       "3   SHIELDS for Families, Inc.   \n",
       "4                 Divergent 3D   \n",
       "\n",
       "                                         description    numreview  \\\n",
       "0  <span id=\"job_summary\" class=\"summary\"><div><p...  545 reviews   \n",
       "1  <span id=\"job_summary\" class=\"summary\"><div><b...  198 reviews   \n",
       "2  <span id=\"job_summary\" class=\"summary\"><div><p...  545 reviews   \n",
       "3  <span id=\"job_summary\" class=\"summary\"><b>SUMM...   48 reviews   \n",
       "4  <span id=\"job_summary\" class=\"summary\"><div><d...          NaN   \n",
       "\n",
       "                location  \n",
       "0        Los Angeles, CA  \n",
       "1        Los Angeles, CA  \n",
       "2        Los Angeles, CA  \n",
       "3  Los Angeles, CA 90002  \n",
       "4        Los Angeles, CA  "
      ]
     },
     "execution_count": 6,
     "metadata": {},
     "output_type": "execute_result"
    }
   ],
   "source": [
    "la = pd.read_csv('fulltimeLA.csv')\n",
    "la.head()"
   ]
  },
  {
   "cell_type": "code",
   "execution_count": 7,
   "metadata": {},
   "outputs": [
    {
     "data": {
      "text/plain": [
       "(254, 5)"
      ]
     },
     "execution_count": 7,
     "metadata": {},
     "output_type": "execute_result"
    }
   ],
   "source": [
    "la.shape"
   ]
  },
  {
   "cell_type": "code",
   "execution_count": 10,
   "metadata": {},
   "outputs": [
    {
     "data": {
      "text/plain": [
       "'<span id=\"job_summary\" class=\"summary\"><div><div><div>Pray.com is a social impact company: we’re driven to help solve society’s challenges by creating tools that make people’s lives better. We exist to serve faith-based organizations and nonprofits. Our team is comprised of people from all backgrounds – some of us pray, some of us meditate, and some of us just want to see more empathy in the world. At Pray.com we walk the talk, live the d.r.e.a.m., and combine our talents to build something bigger than ourselves.</div><div><br>\\n</div><div>\\nAs a product, Pray.com is a private social network and donations platform for faith-based organizations and non-profits. We make it easy for people to connect with their communities, get involved face-to-face, and take action in times of need. At Pray.com our vision is to create a world where everyone leaves a legacy of helping others.</div><div><br>\\n</div><div>\\nWant to work with teammates driven to make the world a better place?</div><div><br>\\n</div><div>\\nAt Pray.com, you get both a career and a cause.</div><div><br>\\n</div><div>\\nWe believe that you can do well financially while doing good for your community. Our business was built on this principle and our investors have generously given us faith, and capital. In return, we’re scaling the company for maximum impact. With competitive salaries and a generous equity package, now is an amazing time to join our team. If making an impact while being part of a remarkable team sounds good to you, we’d love to hear from you.</div><div><br>\\n</div><div>\\nWe’re looking for a Data Scientist to join the Pray app. Working closely alongside the Engineering, Product Design, and Product Management teams, you will collect and analyze a wealth of data to aid our business and engineering teams in making smarter, more informed decisions so we can make better products</div><div>\\n</div></div>\\n<div><div><h3 class=\"jobSectionHeader\"><b>What you’ll do:</b></h3><div><ul><li>\\nTranslate business questions and apply statistical models and analyses to answer the business questions in an actionable and reproducible manner.</li><li>\\nCreate statistical models than can predict whether or not users will churn, their likelihood to take a given action. Additionally create media mix models to optimize marketing channel, spend and resources. Conduct segmentation analyses through the use of python and/or R programming languages.</li><li>\\nLeverage machine learning to optimize the delivery of content to users in order to optimize the user experience and engagement. Additionally use machine learning to identify the types of content created by our users and auto categorize the content based on sentiment, content type etc</li><li>\\nLeverage SQL and other programming languages to acquire the data to analyze in ad hoc analyses and long standing mode</li></ul></div></div></div>\\n<div><div><h3 class=\"jobSectionHeader\"><b>What we\\'re looking for:</b></h3><div><ul><li>\\n5+ years of experience doing quantitative analysis</li><li>\\nBA/BS in Computer Science, Math, Physics, Engineering, Statistics or other technical field</li><li>\\nFluency in SQL or other big data querying languages</li><li>\\nExperience with analytical packages such as SciPy or R</li><li>\\nExperience with advanced statistics (hypothesis testing, regressions)</li><li>\\nExperience manipulating data sets through statistical software (R, SAS) or other methods</li><li>\\nAbility to work across teams and functional departments, interacting with members across the organization</li><li>\\nAbility to communicate analyses in a clear and effective manner to senior-level audiences</li></ul></div></div></div><div><div>\\n</div><div><br>\\n</div><div><b>Our Culture</b></div><div>\\nEvery person at Pray.com is devoted to our vision of creating a world where everyone leaves a legacy of helping others.</div><div><br>\\n</div><div>\\nWe’re looking for talented individuals who understand and embrace our core values, D.R.E.A.M., which include: Devotion, Research, Empathy, Application, and Mindset. At Pray.com, respect for colleagues coming from all faith (and non-faith) backgrounds is a must. We simply appreciate the unbelievable honor and privilege of working with incredible people.</div><div><br>\\n</div><div>\\nAt Pray.com we take pride in being a highly-productive team. We collaborate using SCRUM Teams, provide candid constructive feedback to one another, and leverage agile business principles in an open office space that is located 2 blocks from the beach.</div><div><br>\\n</div><div><b>\\nMore About Us</b></div><div>\\nFounded in 2016 by serial entrepreneur Steve Gatena and his team of rockstar co-founders, Pray.com was incubated by Mike Jones (Current CEO of Science and former CEO of MySpace) and currently operates out of the Science space in Downtown Santa Monica, which has also seen the likes of Dollar Shave Club, DogVacay, and FameBit pass through its doors.</div></div></div></span>'"
      ]
     },
     "execution_count": 10,
     "metadata": {},
     "output_type": "execute_result"
    }
   ],
   "source": [
    "la.loc[45]['description']"
   ]
  },
  {
   "cell_type": "code",
   "execution_count": null,
   "metadata": {},
   "outputs": [],
   "source": []
  }
 ],
 "metadata": {
  "kernelspec": {
   "display_name": "Python 3",
   "language": "python",
   "name": "python3"
  },
  "language_info": {
   "codemirror_mode": {
    "name": "ipython",
    "version": 3
   },
   "file_extension": ".py",
   "mimetype": "text/x-python",
   "name": "python",
   "nbconvert_exporter": "python",
   "pygments_lexer": "ipython3",
   "version": "3.8.5"
  }
 },
 "nbformat": 4,
 "nbformat_minor": 4
}
